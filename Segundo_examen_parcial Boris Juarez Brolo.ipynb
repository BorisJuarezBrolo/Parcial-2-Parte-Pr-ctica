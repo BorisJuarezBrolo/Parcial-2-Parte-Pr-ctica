{
 "cells": [
  {
   "cell_type": "markdown",
   "metadata": {},
   "source": [
    "# Segundo examen parcial"
   ]
  },
  {
   "cell_type": "code",
   "execution_count": 27,
   "metadata": {
    "scrolled": false
   },
   "outputs": [],
   "source": [
    "from sklearn import datasets\n",
    "from sklearn.linear_model import LogisticRegression \n",
    "from sklearn.neighbors import KNeighborsClassifier\n",
    "from sklearn.tree import DecisionTreeClassifier\n",
    "from sklearn.metrics import accuracy_score\n",
    "from sklearn import metrics\n",
    "import numpy as np\n",
    "from sklearn import tree\n",
    "from sklearn.tree import export_graphviz\n",
    "import graphviz\n",
    "from IPython.display import Image  \n",
    "from sklearn import tree\n",
    "import pydotplus\n",
    "\n"
   ]
  },
  {
   "cell_type": "markdown",
   "metadata": {},
   "source": [
    "## Cargamos el set de datos"
   ]
  },
  {
   "cell_type": "markdown",
   "metadata": {},
   "source": [
    "### Data Set Information\n",
    "\n",
    "URL : [wine_data](https://archive.ics.uci.edu/ml/datasets/wine)\n",
    "\n",
    "These data are the results of a chemical analysis of wines grown in the same region in Italy but derived from three different cultivars. The analysis determined the quantities of 13 constituents found in each of the three types of wines. \n",
    "\n",
    "I think that the initial data set had around 30 variables, but for some reason I only have the 13 dimensional version. I had a list of what the 30 or so variables were, but a.) I lost it, and b.), I would not know which 13 variables are included in the set. \n",
    "\n",
    "The attributes are (dontated by Riccardo Leardi, riclea '@' anchem.unige.it ) \n",
    "1. Alcohol \n",
    "2. Malic acid \n",
    "3. Ash \n",
    "4. Alcalinity of ash \n",
    "5. Magnesium \n",
    "6. Total phenols \n",
    "7. Flavanoids \n",
    "8. Nonflavanoid phenols \n",
    "9. Proanthocyanins \n",
    "10. Color intensity \n",
    "11. Hue \n",
    "12. OD280/OD315 of diluted wines \n",
    "13. Proline"
   ]
  },
  {
   "cell_type": "code",
   "execution_count": 28,
   "metadata": {},
   "outputs": [],
   "source": [
    "wine_data = datasets.load_wine()"
   ]
  },
  {
   "cell_type": "code",
   "execution_count": 29,
   "metadata": {},
   "outputs": [],
   "source": [
    "X_train = wine_data.data\n",
    "Y_train = wine_data.target"
   ]
  },
  {
   "cell_type": "markdown",
   "metadata": {},
   "source": [
    "## k-nearest neighbors"
   ]
  },
  {
   "cell_type": "code",
   "execution_count": 30,
   "metadata": {},
   "outputs": [
    {
     "data": {
      "text/plain": [
       "KNeighborsClassifier(algorithm='auto', leaf_size=30, metric='minkowski',\n",
       "           metric_params=None, n_jobs=1, n_neighbors=5, p=2,\n",
       "           weights='uniform')"
      ]
     },
     "execution_count": 30,
     "metadata": {},
     "output_type": "execute_result"
    }
   ],
   "source": [
    "#### INGRESA TU CODIGO AQUI  ~ 2 lineas de codigo ######\n",
    "kneigh = KNeighborsClassifier()\n",
    "kneigh.fit(X_train,Y_train)\n"
   ]
  },
  {
   "cell_type": "markdown",
   "metadata": {},
   "source": [
    "### Accuracy"
   ]
  },
  {
   "cell_type": "code",
   "execution_count": 31,
   "metadata": {},
   "outputs": [
    {
     "data": {
      "text/plain": [
       "0.7865168539325843"
      ]
     },
     "execution_count": 31,
     "metadata": {},
     "output_type": "execute_result"
    }
   ],
   "source": [
    "## EJECUTA LA CELDA, NO HAY QUE CAMBIAR NADA ##\n",
    "y_pred = kneigh.predict(X_train)\n",
    "\n",
    "accuracy_score(Y_train, y_pred)"
   ]
  },
  {
   "cell_type": "markdown",
   "metadata": {},
   "source": [
    "# Regresion logistica"
   ]
  },
  {
   "cell_type": "code",
   "execution_count": 32,
   "metadata": {},
   "outputs": [],
   "source": [
    "## Ingresa el numero de iteraciones ##\n",
    "numero_maximo_iteraciones = 500"
   ]
  },
  {
   "cell_type": "code",
   "execution_count": 33,
   "metadata": {
    "scrolled": true
   },
   "outputs": [
    {
     "data": {
      "text/plain": [
       "LogisticRegression(C=1.0, class_weight=None, dual=False, fit_intercept=True,\n",
       "          intercept_scaling=1, max_iter=500, multi_class='ovr', n_jobs=1,\n",
       "          penalty='l2', random_state=None, solver='liblinear', tol=0.0001,\n",
       "          verbose=0, warm_start=False)"
      ]
     },
     "execution_count": 33,
     "metadata": {},
     "output_type": "execute_result"
    }
   ],
   "source": [
    "#### INGRESA TU CODIGO AQUI  ~ 2 lineas de codigo ######\n",
    "## utiliza la variable numero_maximo_iteraciones ##\n",
    "logistic_classifier = LogisticRegression(max_iter=numero_maximo_iteraciones)\n",
    "logistic_classifier.fit(X_train, Y_train)\n"
   ]
  },
  {
   "cell_type": "markdown",
   "metadata": {},
   "source": [
    "### Accuracy"
   ]
  },
  {
   "cell_type": "markdown",
   "metadata": {},
   "source": [
    "# Desicion trees\n",
    "\n",
    "** Importante: ** Tener instalado el paquete graphviz"
   ]
  },
  {
   "cell_type": "code",
   "execution_count": 34,
   "metadata": {},
   "outputs": [
    {
     "name": "stdout",
     "output_type": "stream",
     "text": [
      "0.9719101123595506\n",
      "0.9719101123595506\n"
     ]
    }
   ],
   "source": [
    "y_pred = logistic_classifier.predict(X_train)\n",
    "\n",
    "## Imprime el accuracy para el modelo de regresion logistica ##\n",
    "#### INGRESA TU CODIGO AQUI  ~ 1 linea de codigo ######\n",
    "calificacion1=accuracy_score(Y_train,y_pred)\n",
    "calificacion2=logistic_classifier.score(X_train, Y_train)\n",
    "\n",
    "print(calificacion1)\n",
    "print(calificacion2)"
   ]
  },
  {
   "cell_type": "code",
   "execution_count": 35,
   "metadata": {},
   "outputs": [],
   "source": [
    "#### INGRESA TU CODIGO AQUI  ~ 2 lineas de codigo ######\n",
    "decision_tree = DecisionTreeClassifier()\n",
    "decision_tree = decision_tree.fit(X_train, Y_train)"
   ]
  },
  {
   "cell_type": "markdown",
   "metadata": {},
   "source": [
    "### Accuracy"
   ]
  },
  {
   "cell_type": "code",
   "execution_count": 37,
   "metadata": {},
   "outputs": [
    {
     "name": "stdout",
     "output_type": "stream",
     "text": [
      "1.0\n",
      "0.9719101123595506\n"
     ]
    }
   ],
   "source": [
    "## Imprime el accuracy para el desicion tree ##\n",
    "#### INGRESA TU CODIGO AQUI  ~ 2 lineas de codigo ######\n",
    "y_pred = decision_tree.predict(X_train)\n",
    "\n",
    "S1 = accuracy_score(Y_train,y_pred)\n",
    "S2 = logistic_classifier.score(X_train, Y_train)\n",
    "\n",
    "print (S1)\n",
    "print (S2)\n",
    "\n",
    "\n"
   ]
  },
  {
   "cell_type": "markdown",
   "metadata": {},
   "source": [
    "### Visualiza el desicion tree\n",
    "\n",
    "En la siguiente celda imprime el desicion tree, como lo vimos en la clase.\n",
    "Puedes consultar [aqui](https://youtu.be/axCtUSHe30Y?t=1180)"
   ]
  },
  {
   "cell_type": "code",
   "execution_count": 43,
   "metadata": {
    "scrolled": true
   },
   "outputs": [
    {
     "data": {
      "image/svg+xml": [
       "<?xml version=\"1.0\" encoding=\"UTF-8\" standalone=\"no\"?>\r\n",
       "<!DOCTYPE svg PUBLIC \"-//W3C//DTD SVG 1.1//EN\"\r\n",
       " \"http://www.w3.org/Graphics/SVG/1.1/DTD/svg11.dtd\">\r\n",
       "<!-- Generated by graphviz version 2.38.0 (20140413.2041)\r\n",
       " -->\r\n",
       "<!-- Title: Tree Pages: 1 -->\r\n",
       "<svg width=\"1210pt\" height=\"671pt\"\r\n",
       " viewBox=\"0.00 0.00 1210.00 671.00\" xmlns=\"http://www.w3.org/2000/svg\" xmlns:xlink=\"http://www.w3.org/1999/xlink\">\r\n",
       "<g id=\"graph0\" class=\"graph\" transform=\"scale(1 1) rotate(0) translate(4 667)\">\r\n",
       "<title>Tree</title>\r\n",
       "<polygon fill=\"white\" stroke=\"none\" points=\"-4,4 -4,-667 1206,-667 1206,4 -4,4\"/>\r\n",
       "<!-- 0 -->\r\n",
       "<g id=\"node1\" class=\"node\"><title>0</title>\r\n",
       "<path fill=\"#39e581\" fill-opacity=\"0.101961\" stroke=\"black\" d=\"M720,-663C720,-663 607,-663 607,-663 601,-663 595,-657 595,-651 595,-651 595,-592 595,-592 595,-586 601,-580 607,-580 607,-580 720,-580 720,-580 726,-580 732,-586 732,-592 732,-592 732,-651 732,-651 732,-657 726,-663 720,-663\"/>\r\n",
       "<text text-anchor=\"start\" x=\"616\" y=\"-647.8\" font-family=\"Helvetica,sans-Serif\" font-size=\"14.00\">proline ≤ 755.0</text>\r\n",
       "<text text-anchor=\"start\" x=\"626\" y=\"-632.8\" font-family=\"Helvetica,sans-Serif\" font-size=\"14.00\">gini = 0.658</text>\r\n",
       "<text text-anchor=\"start\" x=\"616\" y=\"-617.8\" font-family=\"Helvetica,sans-Serif\" font-size=\"14.00\">samples = 178</text>\r\n",
       "<text text-anchor=\"start\" x=\"603\" y=\"-602.8\" font-family=\"Helvetica,sans-Serif\" font-size=\"14.00\">value = [59, 71, 48]</text>\r\n",
       "<text text-anchor=\"start\" x=\"614\" y=\"-587.8\" font-family=\"Helvetica,sans-Serif\" font-size=\"14.00\">class = class_1</text>\r\n",
       "</g>\r\n",
       "<!-- 1 -->\r\n",
       "<g id=\"node2\" class=\"node\"><title>1</title>\r\n",
       "<path fill=\"#39e581\" fill-opacity=\"0.360784\" stroke=\"black\" d=\"M666.5,-544C666.5,-544 420.5,-544 420.5,-544 414.5,-544 408.5,-538 408.5,-532 408.5,-532 408.5,-473 408.5,-473 408.5,-467 414.5,-461 420.5,-461 420.5,-461 666.5,-461 666.5,-461 672.5,-461 678.5,-467 678.5,-473 678.5,-473 678.5,-532 678.5,-532 678.5,-538 672.5,-544 666.5,-544\"/>\r\n",
       "<text text-anchor=\"start\" x=\"416.5\" y=\"-528.8\" font-family=\"Helvetica,sans-Serif\" font-size=\"14.00\">od280/od315_of_diluted_wines ≤ 2.115</text>\r\n",
       "<text text-anchor=\"start\" x=\"506\" y=\"-513.8\" font-family=\"Helvetica,sans-Serif\" font-size=\"14.00\">gini = 0.492</text>\r\n",
       "<text text-anchor=\"start\" x=\"496\" y=\"-498.8\" font-family=\"Helvetica,sans-Serif\" font-size=\"14.00\">samples = 111</text>\r\n",
       "<text text-anchor=\"start\" x=\"487\" y=\"-483.8\" font-family=\"Helvetica,sans-Serif\" font-size=\"14.00\">value = [2, 67, 42]</text>\r\n",
       "<text text-anchor=\"start\" x=\"494\" y=\"-468.8\" font-family=\"Helvetica,sans-Serif\" font-size=\"14.00\">class = class_1</text>\r\n",
       "</g>\r\n",
       "<!-- 0&#45;&gt;1 -->\r\n",
       "<g id=\"edge1\" class=\"edge\"><title>0&#45;&gt;1</title>\r\n",
       "<path fill=\"none\" stroke=\"black\" d=\"M621.867,-579.907C612.373,-570.651 602.2,-560.732 592.432,-551.209\"/>\r\n",
       "<polygon fill=\"black\" stroke=\"black\" points=\"594.663,-548.496 585.06,-544.021 589.776,-553.508 594.663,-548.496\"/>\r\n",
       "<text text-anchor=\"middle\" x=\"585.376\" y=\"-565.319\" font-family=\"Helvetica,sans-Serif\" font-size=\"14.00\">True</text>\r\n",
       "</g>\r\n",
       "<!-- 16 -->\r\n",
       "<g id=\"node17\" class=\"node\"><title>16</title>\r\n",
       "<path fill=\"#e58139\" fill-opacity=\"0.835294\" stroke=\"black\" d=\"M837.5,-544C837.5,-544 729.5,-544 729.5,-544 723.5,-544 717.5,-538 717.5,-532 717.5,-532 717.5,-473 717.5,-473 717.5,-467 723.5,-461 729.5,-461 729.5,-461 837.5,-461 837.5,-461 843.5,-461 849.5,-467 849.5,-473 849.5,-473 849.5,-532 849.5,-532 849.5,-538 843.5,-544 837.5,-544\"/>\r\n",
       "<text text-anchor=\"start\" x=\"725.5\" y=\"-528.8\" font-family=\"Helvetica,sans-Serif\" font-size=\"14.00\">flavanoids ≤ 2.165</text>\r\n",
       "<text text-anchor=\"start\" x=\"746\" y=\"-513.8\" font-family=\"Helvetica,sans-Serif\" font-size=\"14.00\">gini = 0.265</text>\r\n",
       "<text text-anchor=\"start\" x=\"740\" y=\"-498.8\" font-family=\"Helvetica,sans-Serif\" font-size=\"14.00\">samples = 67</text>\r\n",
       "<text text-anchor=\"start\" x=\"731\" y=\"-483.8\" font-family=\"Helvetica,sans-Serif\" font-size=\"14.00\">value = [57, 4, 6]</text>\r\n",
       "<text text-anchor=\"start\" x=\"734\" y=\"-468.8\" font-family=\"Helvetica,sans-Serif\" font-size=\"14.00\">class = class_0</text>\r\n",
       "</g>\r\n",
       "<!-- 0&#45;&gt;16 -->\r\n",
       "<g id=\"edge16\" class=\"edge\"><title>0&#45;&gt;16</title>\r\n",
       "<path fill=\"none\" stroke=\"black\" d=\"M705.133,-579.907C714.627,-570.651 724.8,-560.732 734.568,-551.209\"/>\r\n",
       "<polygon fill=\"black\" stroke=\"black\" points=\"737.224,-553.508 741.94,-544.021 732.337,-548.496 737.224,-553.508\"/>\r\n",
       "<text text-anchor=\"middle\" x=\"741.624\" y=\"-565.319\" font-family=\"Helvetica,sans-Serif\" font-size=\"14.00\">False</text>\r\n",
       "</g>\r\n",
       "<!-- 2 -->\r\n",
       "<g id=\"node3\" class=\"node\"><title>2</title>\r\n",
       "<path fill=\"#8139e5\" fill-opacity=\"0.850980\" stroke=\"black\" d=\"M381,-425C381,-425 284,-425 284,-425 278,-425 272,-419 272,-413 272,-413 272,-354 272,-354 272,-348 278,-342 284,-342 284,-342 381,-342 381,-342 387,-342 393,-348 393,-354 393,-354 393,-413 393,-413 393,-419 387,-425 381,-425\"/>\r\n",
       "<text text-anchor=\"start\" x=\"294.5\" y=\"-409.8\" font-family=\"Helvetica,sans-Serif\" font-size=\"14.00\">hue ≤ 0.935</text>\r\n",
       "<text text-anchor=\"start\" x=\"295\" y=\"-394.8\" font-family=\"Helvetica,sans-Serif\" font-size=\"14.00\">gini = 0.227</text>\r\n",
       "<text text-anchor=\"start\" x=\"289\" y=\"-379.8\" font-family=\"Helvetica,sans-Serif\" font-size=\"14.00\">samples = 46</text>\r\n",
       "<text text-anchor=\"start\" x=\"280\" y=\"-364.8\" font-family=\"Helvetica,sans-Serif\" font-size=\"14.00\">value = [0, 6, 40]</text>\r\n",
       "<text text-anchor=\"start\" x=\"283\" y=\"-349.8\" font-family=\"Helvetica,sans-Serif\" font-size=\"14.00\">class = class_2</text>\r\n",
       "</g>\r\n",
       "<!-- 1&#45;&gt;2 -->\r\n",
       "<g id=\"edge2\" class=\"edge\"><title>1&#45;&gt;2</title>\r\n",
       "<path fill=\"none\" stroke=\"black\" d=\"M470.295,-460.907C448.221,-448.668 424.06,-435.27 402.22,-423.16\"/>\r\n",
       "<polygon fill=\"black\" stroke=\"black\" points=\"403.779,-420.022 393.336,-418.234 400.385,-426.144 403.779,-420.022\"/>\r\n",
       "</g>\r\n",
       "<!-- 9 -->\r\n",
       "<g id=\"node10\" class=\"node\"><title>9</title>\r\n",
       "<path fill=\"#39e581\" fill-opacity=\"0.937255\" stroke=\"black\" d=\"M597.5,-425C597.5,-425 489.5,-425 489.5,-425 483.5,-425 477.5,-419 477.5,-413 477.5,-413 477.5,-354 477.5,-354 477.5,-348 483.5,-342 489.5,-342 489.5,-342 597.5,-342 597.5,-342 603.5,-342 609.5,-348 609.5,-354 609.5,-354 609.5,-413 609.5,-413 609.5,-419 603.5,-425 597.5,-425\"/>\r\n",
       "<text text-anchor=\"start\" x=\"485.5\" y=\"-409.8\" font-family=\"Helvetica,sans-Serif\" font-size=\"14.00\">flavanoids ≤ 0.795</text>\r\n",
       "<text text-anchor=\"start\" x=\"506\" y=\"-394.8\" font-family=\"Helvetica,sans-Serif\" font-size=\"14.00\">gini = 0.117</text>\r\n",
       "<text text-anchor=\"start\" x=\"500\" y=\"-379.8\" font-family=\"Helvetica,sans-Serif\" font-size=\"14.00\">samples = 65</text>\r\n",
       "<text text-anchor=\"start\" x=\"491\" y=\"-364.8\" font-family=\"Helvetica,sans-Serif\" font-size=\"14.00\">value = [2, 61, 2]</text>\r\n",
       "<text text-anchor=\"start\" x=\"494\" y=\"-349.8\" font-family=\"Helvetica,sans-Serif\" font-size=\"14.00\">class = class_1</text>\r\n",
       "</g>\r\n",
       "<!-- 1&#45;&gt;9 -->\r\n",
       "<g id=\"edge9\" class=\"edge\"><title>1&#45;&gt;9</title>\r\n",
       "<path fill=\"none\" stroke=\"black\" d=\"M543.5,-460.907C543.5,-452.649 543.5,-443.864 543.5,-435.302\"/>\r\n",
       "<polygon fill=\"black\" stroke=\"black\" points=\"547,-435.021 543.5,-425.021 540,-435.021 547,-435.021\"/>\r\n",
       "</g>\r\n",
       "<!-- 3 -->\r\n",
       "<g id=\"node4\" class=\"node\"><title>3</title>\r\n",
       "<path fill=\"#8139e5\" fill-opacity=\"0.972549\" stroke=\"black\" d=\"M244.5,-306C244.5,-306 144.5,-306 144.5,-306 138.5,-306 132.5,-300 132.5,-294 132.5,-294 132.5,-235 132.5,-235 132.5,-229 138.5,-223 144.5,-223 144.5,-223 244.5,-223 244.5,-223 250.5,-223 256.5,-229 256.5,-235 256.5,-235 256.5,-294 256.5,-294 256.5,-300 250.5,-306 244.5,-306\"/>\r\n",
       "<text text-anchor=\"start\" x=\"140.5\" y=\"-290.8\" font-family=\"Helvetica,sans-Serif\" font-size=\"14.00\">flavanoids ≤ 1.58</text>\r\n",
       "<text text-anchor=\"start\" x=\"157\" y=\"-275.8\" font-family=\"Helvetica,sans-Serif\" font-size=\"14.00\">gini = 0.049</text>\r\n",
       "<text text-anchor=\"start\" x=\"151\" y=\"-260.8\" font-family=\"Helvetica,sans-Serif\" font-size=\"14.00\">samples = 40</text>\r\n",
       "<text text-anchor=\"start\" x=\"142\" y=\"-245.8\" font-family=\"Helvetica,sans-Serif\" font-size=\"14.00\">value = [0, 1, 39]</text>\r\n",
       "<text text-anchor=\"start\" x=\"145\" y=\"-230.8\" font-family=\"Helvetica,sans-Serif\" font-size=\"14.00\">class = class_2</text>\r\n",
       "</g>\r\n",
       "<!-- 2&#45;&gt;3 -->\r\n",
       "<g id=\"edge3\" class=\"edge\"><title>2&#45;&gt;3</title>\r\n",
       "<path fill=\"none\" stroke=\"black\" d=\"M284.622,-341.907C273.489,-332.469 261.546,-322.343 250.112,-312.649\"/>\r\n",
       "<polygon fill=\"black\" stroke=\"black\" points=\"252.185,-309.818 242.294,-306.021 247.658,-315.157 252.185,-309.818\"/>\r\n",
       "</g>\r\n",
       "<!-- 6 -->\r\n",
       "<g id=\"node7\" class=\"node\"><title>6</title>\r\n",
       "<path fill=\"#39e581\" fill-opacity=\"0.800000\" stroke=\"black\" d=\"M378,-306C378,-306 287,-306 287,-306 281,-306 275,-300 275,-294 275,-294 275,-235 275,-235 275,-229 281,-223 287,-223 287,-223 378,-223 378,-223 384,-223 390,-229 390,-235 390,-235 390,-294 390,-294 390,-300 384,-306 378,-306\"/>\r\n",
       "<text text-anchor=\"start\" x=\"299\" y=\"-290.8\" font-family=\"Helvetica,sans-Serif\" font-size=\"14.00\">ash ≤ 2.45</text>\r\n",
       "<text text-anchor=\"start\" x=\"295\" y=\"-275.8\" font-family=\"Helvetica,sans-Serif\" font-size=\"14.00\">gini = 0.278</text>\r\n",
       "<text text-anchor=\"start\" x=\"293\" y=\"-260.8\" font-family=\"Helvetica,sans-Serif\" font-size=\"14.00\">samples = 6</text>\r\n",
       "<text text-anchor=\"start\" x=\"284\" y=\"-245.8\" font-family=\"Helvetica,sans-Serif\" font-size=\"14.00\">value = [0, 5, 1]</text>\r\n",
       "<text text-anchor=\"start\" x=\"283\" y=\"-230.8\" font-family=\"Helvetica,sans-Serif\" font-size=\"14.00\">class = class_1</text>\r\n",
       "</g>\r\n",
       "<!-- 2&#45;&gt;6 -->\r\n",
       "<g id=\"edge6\" class=\"edge\"><title>2&#45;&gt;6</title>\r\n",
       "<path fill=\"none\" stroke=\"black\" d=\"M332.5,-341.907C332.5,-333.649 332.5,-324.864 332.5,-316.302\"/>\r\n",
       "<polygon fill=\"black\" stroke=\"black\" points=\"336,-316.021 332.5,-306.021 329,-316.021 336,-316.021\"/>\r\n",
       "</g>\r\n",
       "<!-- 4 -->\r\n",
       "<g id=\"node5\" class=\"node\"><title>4</title>\r\n",
       "<path fill=\"#8139e5\" stroke=\"black\" d=\"M109,-179.5C109,-179.5 12,-179.5 12,-179.5 6,-179.5 0,-173.5 0,-167.5 0,-167.5 0,-123.5 0,-123.5 0,-117.5 6,-111.5 12,-111.5 12,-111.5 109,-111.5 109,-111.5 115,-111.5 121,-117.5 121,-123.5 121,-123.5 121,-167.5 121,-167.5 121,-173.5 115,-179.5 109,-179.5\"/>\r\n",
       "<text text-anchor=\"start\" x=\"31.5\" y=\"-164.3\" font-family=\"Helvetica,sans-Serif\" font-size=\"14.00\">gini = 0.0</text>\r\n",
       "<text text-anchor=\"start\" x=\"17\" y=\"-149.3\" font-family=\"Helvetica,sans-Serif\" font-size=\"14.00\">samples = 39</text>\r\n",
       "<text text-anchor=\"start\" x=\"8\" y=\"-134.3\" font-family=\"Helvetica,sans-Serif\" font-size=\"14.00\">value = [0, 0, 39]</text>\r\n",
       "<text text-anchor=\"start\" x=\"11\" y=\"-119.3\" font-family=\"Helvetica,sans-Serif\" font-size=\"14.00\">class = class_2</text>\r\n",
       "</g>\r\n",
       "<!-- 3&#45;&gt;4 -->\r\n",
       "<g id=\"edge4\" class=\"edge\"><title>3&#45;&gt;4</title>\r\n",
       "<path fill=\"none\" stroke=\"black\" d=\"M148.009,-222.907C134.487,-211.101 119.731,-198.217 106.254,-186.45\"/>\r\n",
       "<polygon fill=\"black\" stroke=\"black\" points=\"108.321,-183.608 98.4861,-179.667 103.717,-188.881 108.321,-183.608\"/>\r\n",
       "</g>\r\n",
       "<!-- 5 -->\r\n",
       "<g id=\"node6\" class=\"node\"><title>5</title>\r\n",
       "<path fill=\"#39e581\" stroke=\"black\" d=\"M242,-179.5C242,-179.5 151,-179.5 151,-179.5 145,-179.5 139,-173.5 139,-167.5 139,-167.5 139,-123.5 139,-123.5 139,-117.5 145,-111.5 151,-111.5 151,-111.5 242,-111.5 242,-111.5 248,-111.5 254,-117.5 254,-123.5 254,-123.5 254,-167.5 254,-167.5 254,-173.5 248,-179.5 242,-179.5\"/>\r\n",
       "<text text-anchor=\"start\" x=\"167.5\" y=\"-164.3\" font-family=\"Helvetica,sans-Serif\" font-size=\"14.00\">gini = 0.0</text>\r\n",
       "<text text-anchor=\"start\" x=\"157\" y=\"-149.3\" font-family=\"Helvetica,sans-Serif\" font-size=\"14.00\">samples = 1</text>\r\n",
       "<text text-anchor=\"start\" x=\"148\" y=\"-134.3\" font-family=\"Helvetica,sans-Serif\" font-size=\"14.00\">value = [0, 1, 0]</text>\r\n",
       "<text text-anchor=\"start\" x=\"147\" y=\"-119.3\" font-family=\"Helvetica,sans-Serif\" font-size=\"14.00\">class = class_1</text>\r\n",
       "</g>\r\n",
       "<!-- 3&#45;&gt;5 -->\r\n",
       "<g id=\"edge5\" class=\"edge\"><title>3&#45;&gt;5</title>\r\n",
       "<path fill=\"none\" stroke=\"black\" d=\"M195.194,-222.907C195.377,-212.204 195.575,-200.615 195.76,-189.776\"/>\r\n",
       "<polygon fill=\"black\" stroke=\"black\" points=\"199.262,-189.725 195.933,-179.667 192.263,-189.606 199.262,-189.725\"/>\r\n",
       "</g>\r\n",
       "<!-- 7 -->\r\n",
       "<g id=\"node8\" class=\"node\"><title>7</title>\r\n",
       "<path fill=\"#39e581\" stroke=\"black\" d=\"M376,-179.5C376,-179.5 285,-179.5 285,-179.5 279,-179.5 273,-173.5 273,-167.5 273,-167.5 273,-123.5 273,-123.5 273,-117.5 279,-111.5 285,-111.5 285,-111.5 376,-111.5 376,-111.5 382,-111.5 388,-117.5 388,-123.5 388,-123.5 388,-167.5 388,-167.5 388,-173.5 382,-179.5 376,-179.5\"/>\r\n",
       "<text text-anchor=\"start\" x=\"301.5\" y=\"-164.3\" font-family=\"Helvetica,sans-Serif\" font-size=\"14.00\">gini = 0.0</text>\r\n",
       "<text text-anchor=\"start\" x=\"291\" y=\"-149.3\" font-family=\"Helvetica,sans-Serif\" font-size=\"14.00\">samples = 5</text>\r\n",
       "<text text-anchor=\"start\" x=\"282\" y=\"-134.3\" font-family=\"Helvetica,sans-Serif\" font-size=\"14.00\">value = [0, 5, 0]</text>\r\n",
       "<text text-anchor=\"start\" x=\"281\" y=\"-119.3\" font-family=\"Helvetica,sans-Serif\" font-size=\"14.00\">class = class_1</text>\r\n",
       "</g>\r\n",
       "<!-- 6&#45;&gt;7 -->\r\n",
       "<g id=\"edge7\" class=\"edge\"><title>6&#45;&gt;7</title>\r\n",
       "<path fill=\"none\" stroke=\"black\" d=\"M331.806,-222.907C331.623,-212.204 331.425,-200.615 331.24,-189.776\"/>\r\n",
       "<polygon fill=\"black\" stroke=\"black\" points=\"334.737,-189.606 331.067,-179.667 327.738,-189.725 334.737,-189.606\"/>\r\n",
       "</g>\r\n",
       "<!-- 8 -->\r\n",
       "<g id=\"node9\" class=\"node\"><title>8</title>\r\n",
       "<path fill=\"#8139e5\" stroke=\"black\" d=\"M509,-179.5C509,-179.5 418,-179.5 418,-179.5 412,-179.5 406,-173.5 406,-167.5 406,-167.5 406,-123.5 406,-123.5 406,-117.5 412,-111.5 418,-111.5 418,-111.5 509,-111.5 509,-111.5 515,-111.5 521,-117.5 521,-123.5 521,-123.5 521,-167.5 521,-167.5 521,-173.5 515,-179.5 509,-179.5\"/>\r\n",
       "<text text-anchor=\"start\" x=\"434.5\" y=\"-164.3\" font-family=\"Helvetica,sans-Serif\" font-size=\"14.00\">gini = 0.0</text>\r\n",
       "<text text-anchor=\"start\" x=\"424\" y=\"-149.3\" font-family=\"Helvetica,sans-Serif\" font-size=\"14.00\">samples = 1</text>\r\n",
       "<text text-anchor=\"start\" x=\"415\" y=\"-134.3\" font-family=\"Helvetica,sans-Serif\" font-size=\"14.00\">value = [0, 0, 1]</text>\r\n",
       "<text text-anchor=\"start\" x=\"414\" y=\"-119.3\" font-family=\"Helvetica,sans-Serif\" font-size=\"14.00\">class = class_2</text>\r\n",
       "</g>\r\n",
       "<!-- 6&#45;&gt;8 -->\r\n",
       "<g id=\"edge8\" class=\"edge\"><title>6&#45;&gt;8</title>\r\n",
       "<path fill=\"none\" stroke=\"black\" d=\"M377.95,-222.907C391.17,-211.101 405.595,-198.217 418.77,-186.45\"/>\r\n",
       "<polygon fill=\"black\" stroke=\"black\" points=\"421.237,-188.939 426.364,-179.667 416.575,-183.718 421.237,-188.939\"/>\r\n",
       "</g>\r\n",
       "<!-- 10 -->\r\n",
       "<g id=\"node11\" class=\"node\"><title>10</title>\r\n",
       "<path fill=\"#8139e5\" stroke=\"black\" d=\"M511,-298.5C511,-298.5 420,-298.5 420,-298.5 414,-298.5 408,-292.5 408,-286.5 408,-286.5 408,-242.5 408,-242.5 408,-236.5 414,-230.5 420,-230.5 420,-230.5 511,-230.5 511,-230.5 517,-230.5 523,-236.5 523,-242.5 523,-242.5 523,-286.5 523,-286.5 523,-292.5 517,-298.5 511,-298.5\"/>\r\n",
       "<text text-anchor=\"start\" x=\"436.5\" y=\"-283.3\" font-family=\"Helvetica,sans-Serif\" font-size=\"14.00\">gini = 0.0</text>\r\n",
       "<text text-anchor=\"start\" x=\"426\" y=\"-268.3\" font-family=\"Helvetica,sans-Serif\" font-size=\"14.00\">samples = 2</text>\r\n",
       "<text text-anchor=\"start\" x=\"417\" y=\"-253.3\" font-family=\"Helvetica,sans-Serif\" font-size=\"14.00\">value = [0, 0, 2]</text>\r\n",
       "<text text-anchor=\"start\" x=\"416\" y=\"-238.3\" font-family=\"Helvetica,sans-Serif\" font-size=\"14.00\">class = class_2</text>\r\n",
       "</g>\r\n",
       "<!-- 9&#45;&gt;10 -->\r\n",
       "<g id=\"edge10\" class=\"edge\"><title>9&#45;&gt;10</title>\r\n",
       "<path fill=\"none\" stroke=\"black\" d=\"M516.438,-341.907C508.935,-330.652 500.779,-318.418 493.237,-307.106\"/>\r\n",
       "<polygon fill=\"black\" stroke=\"black\" points=\"496.071,-305.046 487.611,-298.667 490.246,-308.929 496.071,-305.046\"/>\r\n",
       "</g>\r\n",
       "<!-- 11 -->\r\n",
       "<g id=\"node12\" class=\"node\"><title>11</title>\r\n",
       "<path fill=\"#39e581\" fill-opacity=\"0.968627\" stroke=\"black\" d=\"M651.5,-306C651.5,-306 553.5,-306 553.5,-306 547.5,-306 541.5,-300 541.5,-294 541.5,-294 541.5,-235 541.5,-235 541.5,-229 547.5,-223 553.5,-223 553.5,-223 651.5,-223 651.5,-223 657.5,-223 663.5,-229 663.5,-235 663.5,-235 663.5,-294 663.5,-294 663.5,-300 657.5,-306 651.5,-306\"/>\r\n",
       "<text text-anchor=\"start\" x=\"549.5\" y=\"-290.8\" font-family=\"Helvetica,sans-Serif\" font-size=\"14.00\">alcohol ≤ 13.175</text>\r\n",
       "<text text-anchor=\"start\" x=\"565\" y=\"-275.8\" font-family=\"Helvetica,sans-Serif\" font-size=\"14.00\">gini = 0.061</text>\r\n",
       "<text text-anchor=\"start\" x=\"559\" y=\"-260.8\" font-family=\"Helvetica,sans-Serif\" font-size=\"14.00\">samples = 63</text>\r\n",
       "<text text-anchor=\"start\" x=\"550\" y=\"-245.8\" font-family=\"Helvetica,sans-Serif\" font-size=\"14.00\">value = [2, 61, 0]</text>\r\n",
       "<text text-anchor=\"start\" x=\"553\" y=\"-230.8\" font-family=\"Helvetica,sans-Serif\" font-size=\"14.00\">class = class_1</text>\r\n",
       "</g>\r\n",
       "<!-- 9&#45;&gt;11 -->\r\n",
       "<g id=\"edge11\" class=\"edge\"><title>9&#45;&gt;11</title>\r\n",
       "<path fill=\"none\" stroke=\"black\" d=\"M563.97,-341.907C568.317,-333.286 572.954,-324.09 577.45,-315.175\"/>\r\n",
       "<polygon fill=\"black\" stroke=\"black\" points=\"580.689,-316.526 582.066,-306.021 574.439,-313.374 580.689,-316.526\"/>\r\n",
       "</g>\r\n",
       "<!-- 12 -->\r\n",
       "<g id=\"node13\" class=\"node\"><title>12</title>\r\n",
       "<path fill=\"#39e581\" stroke=\"black\" d=\"M649,-179.5C649,-179.5 552,-179.5 552,-179.5 546,-179.5 540,-173.5 540,-167.5 540,-167.5 540,-123.5 540,-123.5 540,-117.5 546,-111.5 552,-111.5 552,-111.5 649,-111.5 649,-111.5 655,-111.5 661,-117.5 661,-123.5 661,-123.5 661,-167.5 661,-167.5 661,-173.5 655,-179.5 649,-179.5\"/>\r\n",
       "<text text-anchor=\"start\" x=\"571.5\" y=\"-164.3\" font-family=\"Helvetica,sans-Serif\" font-size=\"14.00\">gini = 0.0</text>\r\n",
       "<text text-anchor=\"start\" x=\"557\" y=\"-149.3\" font-family=\"Helvetica,sans-Serif\" font-size=\"14.00\">samples = 58</text>\r\n",
       "<text text-anchor=\"start\" x=\"548\" y=\"-134.3\" font-family=\"Helvetica,sans-Serif\" font-size=\"14.00\">value = [0, 58, 0]</text>\r\n",
       "<text text-anchor=\"start\" x=\"551\" y=\"-119.3\" font-family=\"Helvetica,sans-Serif\" font-size=\"14.00\">class = class_1</text>\r\n",
       "</g>\r\n",
       "<!-- 11&#45;&gt;12 -->\r\n",
       "<g id=\"edge12\" class=\"edge\"><title>11&#45;&gt;12</title>\r\n",
       "<path fill=\"none\" stroke=\"black\" d=\"M601.806,-222.907C601.623,-212.204 601.425,-200.615 601.24,-189.776\"/>\r\n",
       "<polygon fill=\"black\" stroke=\"black\" points=\"604.737,-189.606 601.067,-179.667 597.738,-189.725 604.737,-189.606\"/>\r\n",
       "</g>\r\n",
       "<!-- 13 -->\r\n",
       "<g id=\"node14\" class=\"node\"><title>13</title>\r\n",
       "<path fill=\"#39e581\" fill-opacity=\"0.333333\" stroke=\"black\" d=\"M803.5,-187C803.5,-187 691.5,-187 691.5,-187 685.5,-187 679.5,-181 679.5,-175 679.5,-175 679.5,-116 679.5,-116 679.5,-110 685.5,-104 691.5,-104 691.5,-104 803.5,-104 803.5,-104 809.5,-104 815.5,-110 815.5,-116 815.5,-116 815.5,-175 815.5,-175 815.5,-181 809.5,-187 803.5,-187\"/>\r\n",
       "<text text-anchor=\"start\" x=\"687.5\" y=\"-171.8\" font-family=\"Helvetica,sans-Serif\" font-size=\"14.00\">malic_acid ≤ 2.125</text>\r\n",
       "<text text-anchor=\"start\" x=\"714\" y=\"-156.8\" font-family=\"Helvetica,sans-Serif\" font-size=\"14.00\">gini = 0.48</text>\r\n",
       "<text text-anchor=\"start\" x=\"708\" y=\"-141.8\" font-family=\"Helvetica,sans-Serif\" font-size=\"14.00\">samples = 5</text>\r\n",
       "<text text-anchor=\"start\" x=\"699\" y=\"-126.8\" font-family=\"Helvetica,sans-Serif\" font-size=\"14.00\">value = [2, 3, 0]</text>\r\n",
       "<text text-anchor=\"start\" x=\"698\" y=\"-111.8\" font-family=\"Helvetica,sans-Serif\" font-size=\"14.00\">class = class_1</text>\r\n",
       "</g>\r\n",
       "<!-- 11&#45;&gt;13 -->\r\n",
       "<g id=\"edge13\" class=\"edge\"><title>11&#45;&gt;13</title>\r\n",
       "<path fill=\"none\" stroke=\"black\" d=\"M652.807,-222.907C664.616,-213.379 677.295,-203.148 689.414,-193.37\"/>\r\n",
       "<polygon fill=\"black\" stroke=\"black\" points=\"691.697,-196.024 697.282,-187.021 687.302,-190.577 691.697,-196.024\"/>\r\n",
       "</g>\r\n",
       "<!-- 14 -->\r\n",
       "<g id=\"node15\" class=\"node\"><title>14</title>\r\n",
       "<path fill=\"#39e581\" stroke=\"black\" d=\"M726,-68C726,-68 635,-68 635,-68 629,-68 623,-62 623,-56 623,-56 623,-12 623,-12 623,-6 629,-0 635,-0 635,-0 726,-0 726,-0 732,-0 738,-6 738,-12 738,-12 738,-56 738,-56 738,-62 732,-68 726,-68\"/>\r\n",
       "<text text-anchor=\"start\" x=\"651.5\" y=\"-52.8\" font-family=\"Helvetica,sans-Serif\" font-size=\"14.00\">gini = 0.0</text>\r\n",
       "<text text-anchor=\"start\" x=\"641\" y=\"-37.8\" font-family=\"Helvetica,sans-Serif\" font-size=\"14.00\">samples = 3</text>\r\n",
       "<text text-anchor=\"start\" x=\"632\" y=\"-22.8\" font-family=\"Helvetica,sans-Serif\" font-size=\"14.00\">value = [0, 3, 0]</text>\r\n",
       "<text text-anchor=\"start\" x=\"631\" y=\"-7.8\" font-family=\"Helvetica,sans-Serif\" font-size=\"14.00\">class = class_1</text>\r\n",
       "</g>\r\n",
       "<!-- 13&#45;&gt;14 -->\r\n",
       "<g id=\"edge14\" class=\"edge\"><title>13&#45;&gt;14</title>\r\n",
       "<path fill=\"none\" stroke=\"black\" d=\"M722.552,-103.726C717.194,-94.9703 711.524,-85.7032 706.141,-76.9051\"/>\r\n",
       "<polygon fill=\"black\" stroke=\"black\" points=\"709.08,-75.0028 700.875,-68.2996 703.109,-78.6563 709.08,-75.0028\"/>\r\n",
       "</g>\r\n",
       "<!-- 15 -->\r\n",
       "<g id=\"node16\" class=\"node\"><title>15</title>\r\n",
       "<path fill=\"#e58139\" stroke=\"black\" d=\"M859,-68C859,-68 768,-68 768,-68 762,-68 756,-62 756,-56 756,-56 756,-12 756,-12 756,-6 762,-0 768,-0 768,-0 859,-0 859,-0 865,-0 871,-6 871,-12 871,-12 871,-56 871,-56 871,-62 865,-68 859,-68\"/>\r\n",
       "<text text-anchor=\"start\" x=\"784.5\" y=\"-52.8\" font-family=\"Helvetica,sans-Serif\" font-size=\"14.00\">gini = 0.0</text>\r\n",
       "<text text-anchor=\"start\" x=\"774\" y=\"-37.8\" font-family=\"Helvetica,sans-Serif\" font-size=\"14.00\">samples = 2</text>\r\n",
       "<text text-anchor=\"start\" x=\"765\" y=\"-22.8\" font-family=\"Helvetica,sans-Serif\" font-size=\"14.00\">value = [2, 0, 0]</text>\r\n",
       "<text text-anchor=\"start\" x=\"764\" y=\"-7.8\" font-family=\"Helvetica,sans-Serif\" font-size=\"14.00\">class = class_0</text>\r\n",
       "</g>\r\n",
       "<!-- 13&#45;&gt;15 -->\r\n",
       "<g id=\"edge15\" class=\"edge\"><title>13&#45;&gt;15</title>\r\n",
       "<path fill=\"none\" stroke=\"black\" d=\"M772.076,-103.726C777.354,-94.9703 782.939,-85.7032 788.242,-76.9051\"/>\r\n",
       "<polygon fill=\"black\" stroke=\"black\" points=\"791.264,-78.671 793.429,-68.2996 785.269,-75.0574 791.264,-78.671\"/>\r\n",
       "</g>\r\n",
       "<!-- 17 -->\r\n",
       "<g id=\"node18\" class=\"node\"><title>17</title>\r\n",
       "<path fill=\"#8139e5\" fill-opacity=\"0.666667\" stroke=\"black\" d=\"M851,-425C851,-425 716,-425 716,-425 710,-425 704,-419 704,-413 704,-413 704,-354 704,-354 704,-348 710,-342 716,-342 716,-342 851,-342 851,-342 857,-342 863,-348 863,-354 863,-354 863,-413 863,-413 863,-419 857,-425 851,-425\"/>\r\n",
       "<text text-anchor=\"start\" x=\"712\" y=\"-409.8\" font-family=\"Helvetica,sans-Serif\" font-size=\"14.00\">color_intensity ≤ 3.605</text>\r\n",
       "<text text-anchor=\"start\" x=\"746\" y=\"-394.8\" font-family=\"Helvetica,sans-Serif\" font-size=\"14.00\">gini = 0.375</text>\r\n",
       "<text text-anchor=\"start\" x=\"744\" y=\"-379.8\" font-family=\"Helvetica,sans-Serif\" font-size=\"14.00\">samples = 8</text>\r\n",
       "<text text-anchor=\"start\" x=\"735\" y=\"-364.8\" font-family=\"Helvetica,sans-Serif\" font-size=\"14.00\">value = [0, 2, 6]</text>\r\n",
       "<text text-anchor=\"start\" x=\"734\" y=\"-349.8\" font-family=\"Helvetica,sans-Serif\" font-size=\"14.00\">class = class_2</text>\r\n",
       "</g>\r\n",
       "<!-- 16&#45;&gt;17 -->\r\n",
       "<g id=\"edge17\" class=\"edge\"><title>16&#45;&gt;17</title>\r\n",
       "<path fill=\"none\" stroke=\"black\" d=\"M783.5,-460.907C783.5,-452.649 783.5,-443.864 783.5,-435.302\"/>\r\n",
       "<polygon fill=\"black\" stroke=\"black\" points=\"787,-435.021 783.5,-425.021 780,-435.021 787,-435.021\"/>\r\n",
       "</g>\r\n",
       "<!-- 20 -->\r\n",
       "<g id=\"node21\" class=\"node\"><title>20</title>\r\n",
       "<path fill=\"#e58139\" fill-opacity=\"0.964706\" stroke=\"black\" d=\"M1073,-425C1073,-425 938,-425 938,-425 932,-425 926,-419 926,-413 926,-413 926,-354 926,-354 926,-348 932,-342 938,-342 938,-342 1073,-342 1073,-342 1079,-342 1085,-348 1085,-354 1085,-354 1085,-413 1085,-413 1085,-419 1079,-425 1073,-425\"/>\r\n",
       "<text text-anchor=\"start\" x=\"934\" y=\"-409.8\" font-family=\"Helvetica,sans-Serif\" font-size=\"14.00\">color_intensity ≤ 3.435</text>\r\n",
       "<text text-anchor=\"start\" x=\"968\" y=\"-394.8\" font-family=\"Helvetica,sans-Serif\" font-size=\"14.00\">gini = 0.065</text>\r\n",
       "<text text-anchor=\"start\" x=\"962\" y=\"-379.8\" font-family=\"Helvetica,sans-Serif\" font-size=\"14.00\">samples = 59</text>\r\n",
       "<text text-anchor=\"start\" x=\"953\" y=\"-364.8\" font-family=\"Helvetica,sans-Serif\" font-size=\"14.00\">value = [57, 2, 0]</text>\r\n",
       "<text text-anchor=\"start\" x=\"956\" y=\"-349.8\" font-family=\"Helvetica,sans-Serif\" font-size=\"14.00\">class = class_0</text>\r\n",
       "</g>\r\n",
       "<!-- 16&#45;&gt;20 -->\r\n",
       "<g id=\"edge20\" class=\"edge\"><title>16&#45;&gt;20</title>\r\n",
       "<path fill=\"none\" stroke=\"black\" d=\"M849.506,-466.713C871.396,-455.176 896.096,-442.159 919.277,-429.942\"/>\r\n",
       "<polygon fill=\"black\" stroke=\"black\" points=\"921.203,-432.883 928.417,-425.125 917.939,-426.691 921.203,-432.883\"/>\r\n",
       "</g>\r\n",
       "<!-- 18 -->\r\n",
       "<g id=\"node19\" class=\"node\"><title>18</title>\r\n",
       "<path fill=\"#39e581\" stroke=\"black\" d=\"M785,-298.5C785,-298.5 694,-298.5 694,-298.5 688,-298.5 682,-292.5 682,-286.5 682,-286.5 682,-242.5 682,-242.5 682,-236.5 688,-230.5 694,-230.5 694,-230.5 785,-230.5 785,-230.5 791,-230.5 797,-236.5 797,-242.5 797,-242.5 797,-286.5 797,-286.5 797,-292.5 791,-298.5 785,-298.5\"/>\r\n",
       "<text text-anchor=\"start\" x=\"710.5\" y=\"-283.3\" font-family=\"Helvetica,sans-Serif\" font-size=\"14.00\">gini = 0.0</text>\r\n",
       "<text text-anchor=\"start\" x=\"700\" y=\"-268.3\" font-family=\"Helvetica,sans-Serif\" font-size=\"14.00\">samples = 2</text>\r\n",
       "<text text-anchor=\"start\" x=\"691\" y=\"-253.3\" font-family=\"Helvetica,sans-Serif\" font-size=\"14.00\">value = [0, 2, 0]</text>\r\n",
       "<text text-anchor=\"start\" x=\"690\" y=\"-238.3\" font-family=\"Helvetica,sans-Serif\" font-size=\"14.00\">class = class_1</text>\r\n",
       "</g>\r\n",
       "<!-- 17&#45;&gt;18 -->\r\n",
       "<g id=\"edge18\" class=\"edge\"><title>17&#45;&gt;18</title>\r\n",
       "<path fill=\"none\" stroke=\"black\" d=\"M768.234,-341.907C764.126,-330.983 759.671,-319.137 755.523,-308.107\"/>\r\n",
       "<polygon fill=\"black\" stroke=\"black\" points=\"758.769,-306.795 751.973,-298.667 752.217,-309.259 758.769,-306.795\"/>\r\n",
       "</g>\r\n",
       "<!-- 19 -->\r\n",
       "<g id=\"node20\" class=\"node\"><title>19</title>\r\n",
       "<path fill=\"#8139e5\" stroke=\"black\" d=\"M918,-298.5C918,-298.5 827,-298.5 827,-298.5 821,-298.5 815,-292.5 815,-286.5 815,-286.5 815,-242.5 815,-242.5 815,-236.5 821,-230.5 827,-230.5 827,-230.5 918,-230.5 918,-230.5 924,-230.5 930,-236.5 930,-242.5 930,-242.5 930,-286.5 930,-286.5 930,-292.5 924,-298.5 918,-298.5\"/>\r\n",
       "<text text-anchor=\"start\" x=\"843.5\" y=\"-283.3\" font-family=\"Helvetica,sans-Serif\" font-size=\"14.00\">gini = 0.0</text>\r\n",
       "<text text-anchor=\"start\" x=\"833\" y=\"-268.3\" font-family=\"Helvetica,sans-Serif\" font-size=\"14.00\">samples = 6</text>\r\n",
       "<text text-anchor=\"start\" x=\"824\" y=\"-253.3\" font-family=\"Helvetica,sans-Serif\" font-size=\"14.00\">value = [0, 0, 6]</text>\r\n",
       "<text text-anchor=\"start\" x=\"823\" y=\"-238.3\" font-family=\"Helvetica,sans-Serif\" font-size=\"14.00\">class = class_2</text>\r\n",
       "</g>\r\n",
       "<!-- 17&#45;&gt;19 -->\r\n",
       "<g id=\"edge19\" class=\"edge\"><title>17&#45;&gt;19</title>\r\n",
       "<path fill=\"none\" stroke=\"black\" d=\"M814.378,-341.907C823.024,-330.542 832.428,-318.178 841.104,-306.774\"/>\r\n",
       "<polygon fill=\"black\" stroke=\"black\" points=\"844.002,-308.745 847.27,-298.667 838.43,-304.507 844.002,-308.745\"/>\r\n",
       "</g>\r\n",
       "<!-- 21 -->\r\n",
       "<g id=\"node22\" class=\"node\"><title>21</title>\r\n",
       "<path fill=\"#39e581\" stroke=\"black\" d=\"M1051,-298.5C1051,-298.5 960,-298.5 960,-298.5 954,-298.5 948,-292.5 948,-286.5 948,-286.5 948,-242.5 948,-242.5 948,-236.5 954,-230.5 960,-230.5 960,-230.5 1051,-230.5 1051,-230.5 1057,-230.5 1063,-236.5 1063,-242.5 1063,-242.5 1063,-286.5 1063,-286.5 1063,-292.5 1057,-298.5 1051,-298.5\"/>\r\n",
       "<text text-anchor=\"start\" x=\"976.5\" y=\"-283.3\" font-family=\"Helvetica,sans-Serif\" font-size=\"14.00\">gini = 0.0</text>\r\n",
       "<text text-anchor=\"start\" x=\"966\" y=\"-268.3\" font-family=\"Helvetica,sans-Serif\" font-size=\"14.00\">samples = 2</text>\r\n",
       "<text text-anchor=\"start\" x=\"957\" y=\"-253.3\" font-family=\"Helvetica,sans-Serif\" font-size=\"14.00\">value = [0, 2, 0]</text>\r\n",
       "<text text-anchor=\"start\" x=\"956\" y=\"-238.3\" font-family=\"Helvetica,sans-Serif\" font-size=\"14.00\">class = class_1</text>\r\n",
       "</g>\r\n",
       "<!-- 20&#45;&gt;21 -->\r\n",
       "<g id=\"edge21\" class=\"edge\"><title>20&#45;&gt;21</title>\r\n",
       "<path fill=\"none\" stroke=\"black\" d=\"M1005.5,-341.907C1005.5,-331.204 1005.5,-319.615 1005.5,-308.776\"/>\r\n",
       "<polygon fill=\"black\" stroke=\"black\" points=\"1009,-308.667 1005.5,-298.667 1002,-308.667 1009,-308.667\"/>\r\n",
       "</g>\r\n",
       "<!-- 22 -->\r\n",
       "<g id=\"node23\" class=\"node\"><title>22</title>\r\n",
       "<path fill=\"#e58139\" stroke=\"black\" d=\"M1190,-298.5C1190,-298.5 1093,-298.5 1093,-298.5 1087,-298.5 1081,-292.5 1081,-286.5 1081,-286.5 1081,-242.5 1081,-242.5 1081,-236.5 1087,-230.5 1093,-230.5 1093,-230.5 1190,-230.5 1190,-230.5 1196,-230.5 1202,-236.5 1202,-242.5 1202,-242.5 1202,-286.5 1202,-286.5 1202,-292.5 1196,-298.5 1190,-298.5\"/>\r\n",
       "<text text-anchor=\"start\" x=\"1112.5\" y=\"-283.3\" font-family=\"Helvetica,sans-Serif\" font-size=\"14.00\">gini = 0.0</text>\r\n",
       "<text text-anchor=\"start\" x=\"1098\" y=\"-268.3\" font-family=\"Helvetica,sans-Serif\" font-size=\"14.00\">samples = 57</text>\r\n",
       "<text text-anchor=\"start\" x=\"1089\" y=\"-253.3\" font-family=\"Helvetica,sans-Serif\" font-size=\"14.00\">value = [57, 0, 0]</text>\r\n",
       "<text text-anchor=\"start\" x=\"1092\" y=\"-238.3\" font-family=\"Helvetica,sans-Serif\" font-size=\"14.00\">class = class_0</text>\r\n",
       "</g>\r\n",
       "<!-- 20&#45;&gt;22 -->\r\n",
       "<g id=\"edge22\" class=\"edge\"><title>20&#45;&gt;22</title>\r\n",
       "<path fill=\"none\" stroke=\"black\" d=\"M1052.68,-341.907C1066.41,-330.101 1081.39,-317.217 1095.06,-305.45\"/>\r\n",
       "<polygon fill=\"black\" stroke=\"black\" points=\"1097.65,-307.842 1102.95,-298.667 1093.08,-302.535 1097.65,-307.842\"/>\r\n",
       "</g>\r\n",
       "</g>\r\n",
       "</svg>\r\n"
      ],
      "text/plain": [
       "<graphviz.files.Source at 0x27c0b813160>"
      ]
     },
     "execution_count": 43,
     "metadata": {},
     "output_type": "execute_result"
    }
   ],
   "source": [
    "#### INGRESA TU CODIGO AQUI  ~ 3 lineas de codigo ######\n",
    "dot_data = tree.export_graphviz(decision_tree,out_file = None,feature_names = wine_data.feature_names,class_names = wine_data.target_names,filled = True, rounded = True,special_characters = True)\n",
    "graph=graphviz.Source(dot_data)\n",
    "graph"
   ]
  },
  {
   "cell_type": "markdown",
   "metadata": {},
   "source": [
    "# Predicciones"
   ]
  },
  {
   "cell_type": "code",
   "execution_count": null,
   "metadata": {},
   "outputs": [],
   "source": [
    "## EJECUTA LA CELDA, NO HAY QUE CAMBIAR NADA ##\n",
    "for i in range(len(Y_train[:50])):\n",
    "    prediction_logistic = logistic_classifier.predict(X_train[i].reshape(1,-1))\n",
    "    prediction_kneigh = kneigh.predict(X_train[i].reshape(1,-1))\n",
    "    prediction_decision_tree = decision_tree.predict(X_train[i].reshape(1,-1))\n",
    "    real = Y_train[i]\n",
    "    print(\"Real:\",real,\"Regresion Logistica\",prediction_logistic, \\\n",
    "          \"K-nearest neighbors\",prediction_kneigh, \\\n",
    "          \"Decision Tree\", prediction_decision_tree)"
   ]
  },
  {
   "cell_type": "markdown",
   "metadata": {},
   "source": [
    "# Predicciones diferentes"
   ]
  },
  {
   "cell_type": "code",
   "execution_count": null,
   "metadata": {},
   "outputs": [],
   "source": [
    "## EJECUTA LA CELDA, NO HAY QUE CAMBIAR NADA ##\n",
    "exit_flag = 0\n",
    "\n",
    "for i in range(len(Y_train)):\n",
    "    prediction_logistic = logistic_classifier.predict(X_train[i].reshape(1,-1))\n",
    "    prediction_kneigh = kneigh.predict(X_train[i].reshape(1,-1))\n",
    "    prediction_decision_tree = decision_tree.predict(X_train[i].reshape(1,-1))\n",
    "    real = Y_train[i]\n",
    "    if( (real!= prediction_logistic) or (real!= prediction_kneigh) or (real!= prediction_decision_tree) ):\n",
    "        print(\"Regresion Logistica\",prediction_logistic, \\\n",
    "          \"K-nearest neighbors\",prediction_kneigh, \\\n",
    "          \"Decision Tree\", prediction_decision_tree)\n",
    "        exit_flag+= 1\n",
    "        if (exit_flag == 5):\n",
    "            break"
   ]
  },
  {
   "cell_type": "markdown",
   "metadata": {},
   "source": [
    "## Utilizando las predicciones de los tres modelos, para cada uno de los ejemplos, ¿Que clasificación le darías, si no todos los modelos dan el mismo resultado? \n",
    "\n",
    "## En la siguiente celda da una conclusión para cada ejemplo"
   ]
  },
  {
   "cell_type": "code",
   "execution_count": 21,
   "metadata": {},
   "outputs": [
    {
     "name": "stdout",
     "output_type": "stream",
     "text": [
      "Considero que el modelo S1 es más efectivo ya que tiene un accuracy score más alto en comparación a S2.El cual es mucho mejor mientras más se acerque a 1. \n"
     ]
    }
   ],
   "source": [
    "print('Considero que el modelo S1 es más efectivo ya que tiene un accuracy score más alto en comparación a S2.El cual es mucho mejor mientras más se acerque a 1. ')"
   ]
  },
  {
   "cell_type": "code",
   "execution_count": null,
   "metadata": {},
   "outputs": [],
   "source": []
  }
 ],
 "metadata": {
  "kernelspec": {
   "display_name": "Python 3",
   "language": "python",
   "name": "python3"
  },
  "language_info": {
   "codemirror_mode": {
    "name": "ipython",
    "version": 3
   },
   "file_extension": ".py",
   "mimetype": "text/x-python",
   "name": "python",
   "nbconvert_exporter": "python",
   "pygments_lexer": "ipython3",
   "version": "3.6.5"
  }
 },
 "nbformat": 4,
 "nbformat_minor": 2
}
